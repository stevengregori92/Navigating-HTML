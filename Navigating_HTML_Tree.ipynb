{
  "nbformat": 4,
  "nbformat_minor": 0,
  "metadata": {
    "colab": {
      "provenance": [],
      "authorship_tag": "ABX9TyNnwdZo5KXxPrveUkn0vLNE",
      "include_colab_link": true
    },
    "kernelspec": {
      "name": "python3",
      "display_name": "Python 3"
    },
    "language_info": {
      "name": "python"
    }
  },
  "cells": [
    {
      "cell_type": "markdown",
      "metadata": {
        "id": "view-in-github",
        "colab_type": "text"
      },
      "source": [
        "<a href=\"https://colab.research.google.com/github/stevengregori92/Navigating-HTML/blob/main/Navigating_HTML_Tree.ipynb\" target=\"_parent\"><img src=\"https://colab.research.google.com/assets/colab-badge.svg\" alt=\"Open In Colab\"/></a>"
      ]
    },
    {
      "cell_type": "code",
      "execution_count": 1,
      "metadata": {
        "id": "tuG-kIakq8sM"
      },
      "outputs": [],
      "source": [
        "from bs4 import BeautifulSoup\n",
        "import requests"
      ]
    },
    {
      "cell_type": "code",
      "source": [
        "url = 'https://coinmarketcap.com/'\n",
        "result = requests.get(url).text\n",
        "doc = BeautifulSoup(result, 'html.parser')"
      ],
      "metadata": {
        "id": "wGbnIxHzrJSm"
      },
      "execution_count": 2,
      "outputs": []
    },
    {
      "cell_type": "code",
      "source": [
        "tbody = doc.tbody\n",
        "trs = tbody.contents"
      ],
      "metadata": {
        "id": "a13gNu0osEkk"
      },
      "execution_count": 3,
      "outputs": []
    },
    {
      "cell_type": "code",
      "source": [
        "print(trs[2].next_sibling.prettify())"
      ],
      "metadata": {
        "colab": {
          "base_uri": "https://localhost:8080/"
        },
        "id": "kQqg7OcnsR6_",
        "outputId": "93788b76-64ed-4622-adfb-c7e222259d0c"
      },
      "execution_count": 14,
      "outputs": [
        {
          "output_type": "stream",
          "name": "stdout",
          "text": [
            "<tr>\n",
            " <td>\n",
            "  <span class=\"sc-7ed8b501-2 hhCgSV\">\n",
            "  </span>\n",
            " </td>\n",
            " <td style=\"text-align:start\">\n",
            "  <p class=\"sc-e225a64a-0 hHLLiH\" color=\"text2\" data-sensors-click=\"true\" font-size=\"0\">\n",
            "   4\n",
            "  </p>\n",
            " </td>\n",
            " <td style=\"text-align:start\">\n",
            "  <div class=\"sc-aef7b723-0 LCOyB\" display=\"flex\">\n",
            "   <a class=\"cmc-link\" href=\"/currencies/usd-coin/\">\n",
            "    <div class=\"sc-aef7b723-0 sc-8497df48-0 iULUNk\" data-sensors-click=\"true\">\n",
            "     <img alt=\"USDC logo\" class=\"coin-logo\" loading=\"lazy\" src=\"https://s2.coinmarketcap.com/static/img/coins/64x64/3408.png\"/>\n",
            "     <div class=\"sc-aef7b723-0 sc-8497df48-1 iATetF name-area \">\n",
            "      <p class=\"sc-e225a64a-0 ePTNty\" color=\"text\" data-sensors-click=\"true\" font-size=\"1\" font-weight=\"semibold\">\n",
            "       USD Coin\n",
            "      </p>\n",
            "      <div class=\"sc-8497df48-2 gtUrBF\" data-nosnippet=\"true\">\n",
            "       <div class=\"sc-8497df48-3 erCSsg\">\n",
            "        4\n",
            "       </div>\n",
            "       <p class=\"sc-e225a64a-0 dfeAJi coin-item-symbol\" color=\"text3\" data-sensors-click=\"true\" font-size=\"1\">\n",
            "        USDC\n",
            "       </p>\n",
            "      </div>\n",
            "     </div>\n",
            "    </div>\n",
            "   </a>\n",
            "  </div>\n",
            " </td>\n",
            " <td style=\"text-align:end\">\n",
            "  <div class=\"sc-8bda0120-0 dskdZn\">\n",
            "   <a class=\"cmc-link\" href=\"/currencies/usd-coin/markets/\">\n",
            "    <span>\n",
            "     $0.9999\n",
            "    </span>\n",
            "   </a>\n",
            "  </div>\n",
            " </td>\n",
            " <td style=\"text-align:end\">\n",
            "  <span class=\"sc-97d6d2ca-0 bQjSqS\">\n",
            "   <span class=\"icon-Caret-down\">\n",
            "   </span>\n",
            "   0.00%\n",
            "  </span>\n",
            " </td>\n",
            " <td style=\"text-align:end\">\n",
            "  <span class=\"sc-97d6d2ca-0 cYiHal\">\n",
            "   <span class=\"icon-Caret-up\">\n",
            "   </span>\n",
            "   0.00%\n",
            "  </span>\n",
            " </td>\n",
            " <td style=\"text-align:end\">\n",
            "  <span class=\"sc-97d6d2ca-0 cYiHal\">\n",
            "   <span class=\"icon-Caret-up\">\n",
            "   </span>\n",
            "   0.00%\n",
            "  </span>\n",
            " </td>\n",
            " <td style=\"text-align:end\">\n",
            "  <p class=\"sc-e225a64a-0 gLNGkf\" color=\"text\" data-sensors-click=\"true\" font-size=\"1\" style=\"white-space:nowrap\">\n",
            "   <span class=\"sc-edc9a476-0 fXzXSk\">\n",
            "    $43.47B\n",
            "   </span>\n",
            "   <span class=\"sc-edc9a476-1 gqomIJ\" data-nosnippet=\"true\">\n",
            "    $43,466,999,127\n",
            "   </span>\n",
            "  </p>\n",
            " </td>\n",
            " <td style=\"text-align:end\">\n",
            "  <div class=\"sc-aef7b723-0 sc-8085623a-0 jIjTQr\">\n",
            "   <a class=\"cmc-link\" href=\"/currencies/usd-coin/markets/\">\n",
            "    <p class=\"sc-e225a64a-0 gLNGkf font_weight_500\" color=\"text\" data-sensors-click=\"true\" font-size=\"1\">\n",
            "     $5,024,114,828\n",
            "    </p>\n",
            "   </a>\n",
            "   <div data-nosnippet=\"true\">\n",
            "    <p class=\"sc-e225a64a-0 hHLLiH\" color=\"text2\" data-sensors-click=\"true\" font-size=\"0\">\n",
            "     5,024,629,131 USDC\n",
            "    </p>\n",
            "   </div>\n",
            "  </div>\n",
            " </td>\n",
            " <td style=\"text-align:end\">\n",
            "  <div class=\"sc-aef7b723-0 sc-e8f714de-0 cELvic\" data-sensors-click=\"true\" style=\"cursor:\">\n",
            "   <div class=\"sc-aef7b723-0 sc-e8f714de-1 hSniWt\">\n",
            "    <p class=\"sc-e225a64a-0 izpQLd\" color=\"text\" data-sensors-click=\"true\" font-size=\"1\" font-weight=\"medium\">\n",
            "     43,471,448,709 USDC\n",
            "    </p>\n",
            "   </div>\n",
            "  </div>\n",
            " </td>\n",
            " <td style=\"text-align:end\">\n",
            "  <a class=\"cmc-link\" href=\"/currencies/usd-coin/?period=7d\">\n",
            "   <img alt=\"usd-coin-7d-price-graph\" class=\"sc-beb003d5-0 fFgVaS isUp\" loading=\"lazy\" src=\"https://s3.coinmarketcap.com/generated/sparklines/web/7d/2781/3408.svg\"/>\n",
            "  </a>\n",
            " </td>\n",
            " <td>\n",
            "  <div class=\"sc-aef7b723-0 dDQUel\">\n",
            "   <button class=\"sc-a4a6801b-0 kIPIkU sc-9bc013b0-0 jpztv\" data-sensors-click=\"true\">\n",
            "    <span class=\"icon-More-Vertical\">\n",
            "    </span>\n",
            "   </button>\n",
            "  </div>\n",
            " </td>\n",
            "</tr>\n",
            "\n"
          ]
        }
      ]
    },
    {
      "cell_type": "code",
      "source": [
        "print(list(trs[0].contents))"
      ],
      "metadata": {
        "colab": {
          "base_uri": "https://localhost:8080/"
        },
        "id": "oR-JxWfBsWgm",
        "outputId": "260d0d3b-6577-4fa5-dfc5-37d3e58a7756"
      },
      "execution_count": 31,
      "outputs": [
        {
          "output_type": "stream",
          "name": "stdout",
          "text": [
            "[<td><span class=\"sc-7ed8b501-2 hhCgSV\"></span></td>, <td style=\"text-align:start\"><p class=\"sc-e225a64a-0 hHLLiH\" color=\"text2\" data-sensors-click=\"true\" font-size=\"0\">1</p></td>, <td style=\"text-align:start\"><div class=\"sc-aef7b723-0 LCOyB\" display=\"flex\"><a class=\"cmc-link\" href=\"/currencies/bitcoin/\"><div class=\"sc-aef7b723-0 sc-8497df48-0 iULUNk\" data-sensors-click=\"true\"><img alt=\"BTC logo\" class=\"coin-logo\" loading=\"lazy\" src=\"https://s2.coinmarketcap.com/static/img/coins/64x64/1.png\"/><div class=\"sc-aef7b723-0 sc-8497df48-1 iATetF name-area \"><p class=\"sc-e225a64a-0 ePTNty\" color=\"text\" data-sensors-click=\"true\" font-size=\"1\" font-weight=\"semibold\">Bitcoin</p><div class=\"sc-8497df48-2 gtUrBF\" data-nosnippet=\"true\"><div class=\"sc-8497df48-3 erCSsg\">1</div><p class=\"sc-e225a64a-0 dfeAJi coin-item-symbol\" color=\"text3\" data-sensors-click=\"true\" font-size=\"1\">BTC</p></div></div></div></a></div></td>, <td style=\"text-align:end\"><div class=\"sc-8bda0120-0 dskdZn\"><a class=\"cmc-link\" href=\"/currencies/bitcoin/markets/\"><span>$19,906.43</span></a></div></td>, <td style=\"text-align:end\"><span class=\"sc-97d6d2ca-0 cYiHal\"><span class=\"icon-Caret-up\"></span>0.62%</span></td>, <td style=\"text-align:end\"><span class=\"sc-97d6d2ca-0 bQjSqS\"><span class=\"icon-Caret-down\"></span>7.89%</span></td>, <td style=\"text-align:end\"><span class=\"sc-97d6d2ca-0 bQjSqS\"><span class=\"icon-Caret-down\"></span>10.89%</span></td>, <td style=\"text-align:end\"><p class=\"sc-e225a64a-0 gLNGkf\" color=\"text\" data-sensors-click=\"true\" font-size=\"1\" style=\"white-space:nowrap\"><span class=\"sc-edc9a476-0 fXzXSk\">$384.79B</span><span class=\"sc-edc9a476-1 gqomIJ\" data-nosnippet=\"true\">$384,790,444,296</span></p></td>, <td style=\"text-align:end\"><div class=\"sc-aef7b723-0 sc-8085623a-0 jIjTQr\"><a class=\"cmc-link\" href=\"/currencies/bitcoin/markets/\"><p class=\"sc-e225a64a-0 gLNGkf font_weight_500\" color=\"text\" data-sensors-click=\"true\" font-size=\"1\">$41,122,498,204</p></a><div data-nosnippet=\"true\"><p class=\"sc-e225a64a-0 hHLLiH\" color=\"text2\" data-sensors-click=\"true\" font-size=\"0\">2,064,016 BTC</p></div></div></td>, <td style=\"text-align:end\"><div class=\"sc-aef7b723-0 sc-e8f714de-0 cELvic\" data-sensors-click=\"true\" style=\"cursor:pointer\"><div class=\"sc-aef7b723-0 sc-e8f714de-1 hSniWt\"><p class=\"sc-e225a64a-0 izpQLd\" color=\"text\" data-sensors-click=\"true\" font-size=\"1\" font-weight=\"medium\">19,313,356 BTC</p></div><div class=\"sc-4ff2400b-0 hKysZR\" data-sensors-click=\"true\" width=\"160\"><div class=\"sc-4ff2400b-1 ldlqNA\" width=\"148\"></div></div></div></td>, <td style=\"text-align:end\"><a class=\"cmc-link\" href=\"/currencies/bitcoin/?period=7d\"><img alt=\"bitcoin-7d-price-graph\" class=\"sc-beb003d5-0 fFgVaS\" loading=\"lazy\" src=\"https://s3.coinmarketcap.com/generated/sparklines/web/7d/2781/1.svg\"/></a></td>, <td><div class=\"sc-aef7b723-0 dDQUel\"><button class=\"sc-a4a6801b-0 kIPIkU sc-9bc013b0-0 jpztv\" data-sensors-click=\"true\"><span class=\"icon-More-Vertical\"></span></button></div></td>]\n"
          ]
        }
      ]
    },
    {
      "cell_type": "code",
      "source": [
        "print(list(trs[0].children))"
      ],
      "metadata": {
        "colab": {
          "base_uri": "https://localhost:8080/"
        },
        "id": "zyFnZFbstqK0",
        "outputId": "a50c4371-af55-4cec-d5d7-a4baa4527bde"
      },
      "execution_count": 32,
      "outputs": [
        {
          "output_type": "stream",
          "name": "stdout",
          "text": [
            "[<td><span class=\"sc-7ed8b501-2 hhCgSV\"></span></td>, <td style=\"text-align:start\"><p class=\"sc-e225a64a-0 hHLLiH\" color=\"text2\" data-sensors-click=\"true\" font-size=\"0\">1</p></td>, <td style=\"text-align:start\"><div class=\"sc-aef7b723-0 LCOyB\" display=\"flex\"><a class=\"cmc-link\" href=\"/currencies/bitcoin/\"><div class=\"sc-aef7b723-0 sc-8497df48-0 iULUNk\" data-sensors-click=\"true\"><img alt=\"BTC logo\" class=\"coin-logo\" loading=\"lazy\" src=\"https://s2.coinmarketcap.com/static/img/coins/64x64/1.png\"/><div class=\"sc-aef7b723-0 sc-8497df48-1 iATetF name-area \"><p class=\"sc-e225a64a-0 ePTNty\" color=\"text\" data-sensors-click=\"true\" font-size=\"1\" font-weight=\"semibold\">Bitcoin</p><div class=\"sc-8497df48-2 gtUrBF\" data-nosnippet=\"true\"><div class=\"sc-8497df48-3 erCSsg\">1</div><p class=\"sc-e225a64a-0 dfeAJi coin-item-symbol\" color=\"text3\" data-sensors-click=\"true\" font-size=\"1\">BTC</p></div></div></div></a></div></td>, <td style=\"text-align:end\"><div class=\"sc-8bda0120-0 dskdZn\"><a class=\"cmc-link\" href=\"/currencies/bitcoin/markets/\"><span>$19,906.43</span></a></div></td>, <td style=\"text-align:end\"><span class=\"sc-97d6d2ca-0 cYiHal\"><span class=\"icon-Caret-up\"></span>0.62%</span></td>, <td style=\"text-align:end\"><span class=\"sc-97d6d2ca-0 bQjSqS\"><span class=\"icon-Caret-down\"></span>7.89%</span></td>, <td style=\"text-align:end\"><span class=\"sc-97d6d2ca-0 bQjSqS\"><span class=\"icon-Caret-down\"></span>10.89%</span></td>, <td style=\"text-align:end\"><p class=\"sc-e225a64a-0 gLNGkf\" color=\"text\" data-sensors-click=\"true\" font-size=\"1\" style=\"white-space:nowrap\"><span class=\"sc-edc9a476-0 fXzXSk\">$384.79B</span><span class=\"sc-edc9a476-1 gqomIJ\" data-nosnippet=\"true\">$384,790,444,296</span></p></td>, <td style=\"text-align:end\"><div class=\"sc-aef7b723-0 sc-8085623a-0 jIjTQr\"><a class=\"cmc-link\" href=\"/currencies/bitcoin/markets/\"><p class=\"sc-e225a64a-0 gLNGkf font_weight_500\" color=\"text\" data-sensors-click=\"true\" font-size=\"1\">$41,122,498,204</p></a><div data-nosnippet=\"true\"><p class=\"sc-e225a64a-0 hHLLiH\" color=\"text2\" data-sensors-click=\"true\" font-size=\"0\">2,064,016 BTC</p></div></div></td>, <td style=\"text-align:end\"><div class=\"sc-aef7b723-0 sc-e8f714de-0 cELvic\" data-sensors-click=\"true\" style=\"cursor:pointer\"><div class=\"sc-aef7b723-0 sc-e8f714de-1 hSniWt\"><p class=\"sc-e225a64a-0 izpQLd\" color=\"text\" data-sensors-click=\"true\" font-size=\"1\" font-weight=\"medium\">19,313,356 BTC</p></div><div class=\"sc-4ff2400b-0 hKysZR\" data-sensors-click=\"true\" width=\"160\"><div class=\"sc-4ff2400b-1 ldlqNA\" width=\"148\"></div></div></div></td>, <td style=\"text-align:end\"><a class=\"cmc-link\" href=\"/currencies/bitcoin/?period=7d\"><img alt=\"bitcoin-7d-price-graph\" class=\"sc-beb003d5-0 fFgVaS\" loading=\"lazy\" src=\"https://s3.coinmarketcap.com/generated/sparklines/web/7d/2781/1.svg\"/></a></td>, <td><div class=\"sc-aef7b723-0 dDQUel\"><button class=\"sc-a4a6801b-0 kIPIkU sc-9bc013b0-0 jpztv\" data-sensors-click=\"true\"><span class=\"icon-More-Vertical\"></span></button></div></td>]\n"
          ]
        }
      ]
    },
    {
      "cell_type": "code",
      "source": [
        "prices = {}\n",
        "\n",
        "'''for tr in trs:\n",
        "  for td in tr.contents[2:4]:\n",
        "    print(td)\n",
        "    print()'''\n",
        "\n",
        "for tr in trs[:10]:\n",
        "  name, price = tr.contents[2:4]\n",
        "  fixed_name = name.p.string\n",
        "  fixed_price = price.a.string\n",
        "\n",
        "  prices[fixed_name] = fixed_price\n",
        "\n",
        "print(prices)"
      ],
      "metadata": {
        "colab": {
          "base_uri": "https://localhost:8080/"
        },
        "id": "X91tc15xun68",
        "outputId": "5ad8e93a-2cad-4086-848e-f2dcac933052"
      },
      "execution_count": 48,
      "outputs": [
        {
          "output_type": "stream",
          "name": "stdout",
          "text": [
            "{'Bitcoin': '$19,906.43', 'Ethereum': '$1,394.23', 'Tether': '$0.9999', 'USD Coin': '$0.9999', 'BNB': '$269.63', 'XRP': '$0.3649', 'Cardano': '$0.307', 'Polygon': '$0.9915', 'Dogecoin': '$0.06429', 'Binance USD': '$1.00'}\n"
          ]
        }
      ]
    },
    {
      "cell_type": "code",
      "source": [],
      "metadata": {
        "id": "_K9kZ9GAvLbv"
      },
      "execution_count": null,
      "outputs": []
    }
  ]
}